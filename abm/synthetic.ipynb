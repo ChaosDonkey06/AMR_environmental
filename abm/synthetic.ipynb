{
 "cells": [
  {
   "cell_type": "code",
   "execution_count": 2,
   "metadata": {},
   "outputs": [
    {
     "ename": "ModuleNotFoundError",
     "evalue": "No module named 'abm_utils'",
     "output_type": "error",
     "traceback": [
      "\u001b[0;31m---------------------------------------------------------------------------\u001b[0m",
      "\u001b[0;31mModuleNotFoundError\u001b[0m                       Traceback (most recent call last)",
      "\u001b[1;32m/Users/chaosdonkey06/Dropbox/My Mac (Jaimes-MacBook-Pro.local)/Desktop/Shaman-lab/AMR_environmental/abm/synthetic.ipynb Cell 1\u001b[0m in \u001b[0;36m2\n\u001b[1;32m     <a href='vscode-notebook-cell:/Users/chaosdonkey06/Dropbox/My%20Mac%20%28Jaimes-MacBook-Pro.local%29/Desktop/Shaman-lab/AMR_environmental/abm/synthetic.ipynb#W0sZmlsZQ%3D%3D?line=24'>25</a>\u001b[0m path_to_save          \u001b[39m=\u001b[39m os\u001b[39m.\u001b[39mpath\u001b[39m.\u001b[39mjoin(results_dir, \u001b[39m\"\u001b[39m\u001b[39mreal_testing\u001b[39m\u001b[39m\"\u001b[39m, \u001b[39m\"\u001b[39m\u001b[39mcommunity\u001b[39m\u001b[39m\"\u001b[39m)\n\u001b[1;32m     <a href='vscode-notebook-cell:/Users/chaosdonkey06/Dropbox/My%20Mac%20%28Jaimes-MacBook-Pro.local%29/Desktop/Shaman-lab/AMR_environmental/abm/synthetic.ipynb#W0sZmlsZQ%3D%3D?line=26'>27</a>\u001b[0m COLOR_LIST1           \u001b[39m=\u001b[39m [\u001b[39m\"\u001b[39m\u001b[39m#F8AFA8\u001b[39m\u001b[39m\"\u001b[39m, \u001b[39m\"\u001b[39m\u001b[39m#FDDDA0\u001b[39m\u001b[39m\"\u001b[39m, \u001b[39m\"\u001b[39m\u001b[39m#F5CDB4\u001b[39m\u001b[39m\"\u001b[39m, \u001b[39m\"\u001b[39m\u001b[39m#74A089\u001b[39m\u001b[39m\"\u001b[39m]\n\u001b[0;32m---> <a href='vscode-notebook-cell:/Users/chaosdonkey06/Dropbox/My%20Mac%20%28Jaimes-MacBook-Pro.local%29/Desktop/Shaman-lab/AMR_environmental/abm/synthetic.ipynb#W0sZmlsZQ%3D%3D?line=28'>29</a>\u001b[0m \u001b[39mfrom\u001b[39;00m \u001b[39mabm_utils\u001b[39;00m \u001b[39mimport\u001b[39;00m empirical_prevalence, simulate_abm, create_obs_infer\n\u001b[1;32m     <a href='vscode-notebook-cell:/Users/chaosdonkey06/Dropbox/My%20Mac%20%28Jaimes-MacBook-Pro.local%29/Desktop/Shaman-lab/AMR_environmental/abm/synthetic.ipynb#W0sZmlsZQ%3D%3D?line=29'>30</a>\u001b[0m \u001b[39mfrom\u001b[39;00m \u001b[39mutils_local\u001b[39;00m\u001b[39m.\u001b[39;00m\u001b[39mmisc\u001b[39;00m \u001b[39mimport\u001b[39;00m amro2title, amro2cute\n",
      "\u001b[0;31mModuleNotFoundError\u001b[0m: No module named 'abm_utils'"
     ]
    }
   ],
   "source": [
    "from scipy.stats import truncnorm\n",
    "import pandas as pd\n",
    "import numpy as np\n",
    "import itertools\n",
    "import datetime\n",
    "import tqdm\n",
    "import sys\n",
    "import os\n",
    "\n",
    "def flatten_list(list_array):\n",
    "    return list(itertools.chain(*list_array))\n",
    "\n",
    "sys.path.insert(0, \"../\")\n",
    "sys.path.insert(0,\"../pompjax/pompjax/\")\n",
    "\n",
    "from global_config import config\n",
    "\n",
    "results_dir           = config.get_property('results_dir')\n",
    "#results2_dir          = config.get_property('results2_dir')\n",
    "\n",
    "data_dir              = config.get_property('data_dir')\n",
    "paper_dir             = config.get_property('paper_dir')\n",
    "data_db_dir           = config.get_property('data_db_dir')\n",
    "feb_hosp_records_path = os.path.join(data_db_dir, 'long_files_8_25_2021')\n",
    "path_to_save          = os.path.join(results_dir, \"real_testing\", \"community\")\n",
    "\n",
    "COLOR_LIST1           = [\"#F8AFA8\", \"#FDDDA0\", \"#F5CDB4\", \"#74A089\"]\n",
    "\n",
    "from abm_utils import empirical_prevalence, simulate_abm, create_obs_infer\n",
    "from utils_local.misc import amro2title, amro2cute\n"
   ]
  },
  {
   "cell_type": "code",
   "execution_count": null,
   "metadata": {},
   "outputs": [],
   "source": []
  }
 ],
 "metadata": {
  "kernelspec": {
   "display_name": "pompjax",
   "language": "python",
   "name": "python3"
  },
  "language_info": {
   "codemirror_mode": {
    "name": "ipython",
    "version": 3
   },
   "file_extension": ".py",
   "mimetype": "text/x-python",
   "name": "python",
   "nbconvert_exporter": "python",
   "pygments_lexer": "ipython3",
   "version": "3.8.13"
  },
  "orig_nbformat": 4
 },
 "nbformat": 4,
 "nbformat_minor": 2
}
