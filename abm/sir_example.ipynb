{
 "cells": [
  {
   "cell_type": "code",
   "execution_count": null,
   "metadata": {},
   "outputs": [],
   "source": [
    "using ModelingToolkit, DifferentialEquations, Plots"
   ]
  },
  {
   "cell_type": "code",
   "execution_count": null,
   "metadata": {},
   "outputs": [],
   "source": [
    "# Define our state variables: state(t) = initial condition\n",
    "@variables t s(t)=1000 i(t)=10 r(t)=0\n",
    "@parameters β=0.3 γ=1/4 N=1000\n",
    "\n",
    "D = Differential(t)\n",
    "\n",
    "model = [   D(s) ~ - (β * i/ N) * s,\n",
    "            D(i) ~ (β * i/ N) * s - γ * i,\n",
    "            D(r) ~ γ * i]\n",
    "\n",
    "@named ode_model = ODESystem(model, t)\n",
    "\n",
    "# Convert from a symbolic to a numerical problem to simulate\n",
    "tspan = (0.0, 120.0)\n",
    "prob  = ODEProblem(ode_model, [], tspan)\n",
    "\n",
    "############-############ PLOTS ############-############\n",
    "\n",
    "# Solve the ODE\n",
    "sol = solve(prob)\n",
    "\n",
    "# Plot the solution\n",
    "p1 = plot(sol, idxs=s, title = \"Susceptible\")\n",
    "p2 = plot(sol, idxs=i, title = \"Infectious\")\n",
    "p3 = plot(sol, idxs=r, title = \"Recovered\")\n",
    "\n",
    "plot(p1, p2, p3, layout = (3, 1))\n",
    "\n",
    "############-############ - ############-############\n",
    "\n"
   ]
  },
  {
   "cell_type": "markdown",
   "metadata": {},
   "source": [
    "## sir with functions"
   ]
  },
  {
   "cell_type": "code",
   "execution_count": null,
   "metadata": {},
   "outputs": [],
   "source": [
    "\n",
    "function sir_model(dx, x, θ, t)\n",
    "    s, i, r = x\n",
    "    β, γ, N = θ\n",
    "\n",
    "    λ = β * i / N\n",
    "\n",
    "    dx[1] = - λ * s\n",
    "    dx[2] = λ * s - γ * i\n",
    "    dx[3] = γ * i\n",
    "end"
   ]
  },
  {
   "cell_type": "code",
   "execution_count": null,
   "metadata": {},
   "outputs": [],
   "source": [
    "N  = 1e6\n",
    "i0 = 2/100\n",
    "\n",
    "# IV\n",
    "x0 = [N*(1-i0), N*i0, 0]\n",
    "\n",
    "# Simulation interval\n",
    "tspan = (0.0, 120.0)\n",
    "\n",
    "R0 = 3.0\n",
    "γ  = 1/7\n",
    "\n",
    "# θ = [α, β, N]\n",
    "p   = [R0*γ, γ, N]\n",
    "\n",
    "sir_ode = ODEProblem(sir_model, x0, tspan, p)\n",
    "ysim    = solve(sir_ode, saveat = 1)\n",
    "data    = Array(ysim)\n"
   ]
  },
  {
   "cell_type": "code",
   "execution_count": null,
   "metadata": {},
   "outputs": [],
   "source": [
    "# Plot the solution\n",
    "p1 = plot(data[1,:], title = \"Susceptible\")\n",
    "p2 = plot(data[2,:], title = \"Infectious\")\n",
    "p3 = plot(data[3,:], title = \"Recovered\")\n",
    "\n",
    "plot(p1, p2, p3, layout = (3, 1))\n"
   ]
  },
  {
   "cell_type": "markdown",
   "metadata": {},
   "source": [
    "# Stochastic simulation"
   ]
  },
  {
   "cell_type": "code",
   "execution_count": null,
   "metadata": {},
   "outputs": [],
   "source": [
    "using Random, Distributions, RandomNumbers, Statistics\n",
    "\n",
    "function plot_quantile(t, y, q, color=\"black\", label=\"95% CI\", legend=:topright)\n",
    "\n",
    "    up_q  = quantile.(eachrow(y), q/2)\n",
    "    low_q = quantile.(eachrow(y), 1-q/2)\n",
    "\n",
    "    p = plot(t, low_q, fillrange = up_q, fillalpha = 0.5, c = color, label = \"95% CI\", legend = :topright)\n",
    "\n",
    "    return p\n",
    "end\n"
   ]
  },
  {
   "cell_type": "code",
   "execution_count": null,
   "metadata": {},
   "outputs": [],
   "source": [
    "function binomial_transition(x, τ, δτ=1)\n",
    "    p = 1 .- exp.(-τ .* δt)\n",
    "    return rand.(Binomial.(x, p))\n",
    "end\n",
    "\n",
    "function sir_stochastic(x, θ, t)\n",
    "    β, γ, N, δt = θ\n",
    "\n",
    "    s = x[1, :]\n",
    "    i = x[2, :]\n",
    "    r = x[3, :]\n",
    "\n",
    "    λ = β .* i ./ N\n",
    "\n",
    "    s2i = binomial_transition(s, λ, δt)\n",
    "    i2r = binomial_transition(i, γ, δt)\n",
    "\n",
    "    s .= s .- s2i\n",
    "    i .= i .+ s2i .- i2r\n",
    "    r .= r .+ i2r\n",
    "\n",
    "    return transpose(cat(s, i, r, dims=2))\n",
    "end\n",
    "\n",
    "R0 = 2.0\n",
    "γ  = 1/5\n",
    "N  = 1e6\n",
    "δt = 1.0\n",
    "\n",
    "θ  = [R0*γ, γ, N, δt]\n",
    "\n",
    "T = 5\n",
    "n = 3\n",
    "m = 700\n",
    "\n",
    "i0 = 10/100\n",
    "x0 = [N*(1-i0), N*i0, 0] * ones(Float64, 1, m);\n",
    "\n",
    "x         = Array{Float64}(undef, T, n, m)\n",
    "x[1,:,:] .= x0;\n",
    "\n",
    "for t in 1:T-1\n",
    "    x[t+1,:,:] = sir_stochastic(x[t,:,:], θ, t)\n",
    "end\n",
    "\n"
   ]
  },
  {
   "cell_type": "code",
   "execution_count": null,
   "metadata": {},
   "outputs": [],
   "source": [
    "\n",
    "q     = 0.975\n",
    "\n",
    "p1 = plot_quantile(Array(1:1:T), x[:, 1,:], 0.95)\n",
    "p2 = plot_quantile(Array(1:1:T), x[:, 2,:], 0.95)\n",
    "p3 = plot_quantile(Array(1:1:T), x[:, 3,:], 0.95)\n",
    "\n",
    "pp1 = plot(Array(1:1:T), x[:,1,:])\n",
    "\n",
    "plot(p1, p2, p3, layout = (4, 1))\n"
   ]
  },
  {
   "cell_type": "code",
   "execution_count": null,
   "metadata": {},
   "outputs": [],
   "source": [
    "ones(1,30)"
   ]
  },
  {
   "cell_type": "code",
   "execution_count": null,
   "metadata": {},
   "outputs": [],
   "source": [
    "\n",
    "function filter(x, y, g, hσ)\n",
    "    \"\"\" Ensemble Adjustment Kalman Filter\n",
    "    \"\"\"\n",
    "    n, m = size(x) # x \\in R^{n\\times m}. n: state space size, m: number of particles\n",
    "\n",
    "    μ  = mean(y, dims=2)\n",
    "    σ  = var(y, dims=2)\n",
    "\n",
    "\n",
    "    mu_prior  = np.mean(y, -1, keepdims=True)\n",
    "    var_prior = np.var(y, -1, keepdims=True)\n",
    "\n",
    "    z   = g(x)  # simulated observations.\n",
    "    oev = hσ(y) # measurement error.\n",
    "\n",
    "    for ni in 1:1:n\n",
    "        xi       = x[ni, :]\n",
    "        dx       = cov(xi, y)\n",
    "        x[ni, :] = xi + dx\n",
    "    end\n",
    "\n",
    "end\n",
    "\n",
    "function if2(f, g, h, f0, θo, gθ, δθ, Nif)\n",
    "    \"\"\" Iterated filtering with perturbed Bayes map\n",
    "    \"\"\"\n",
    "    x0 = f0(θo)\n",
    "    for nif in 1:1:Nif\n",
    "\n",
    "        if nif == 1\n",
    "            θ_hat = θo()\n",
    "        else\n",
    "            θ_hat = gθ(θ_hat)\n",
    "        end\n",
    "\n",
    "        for t in 1:δt:T\n",
    "            x[t+1,:,:] = f(x[t,:,:], θ, t, δt)\n",
    "            if t in t_infer\n",
    "\n",
    "                x, θ = filter(x, y, f, g)\n",
    "                θ    = δθ(θ)\n",
    "            end\n",
    "        end\n",
    "    end\n",
    "    return θ_hat\n",
    "end\n"
   ]
  },
  {
   "cell_type": "code",
   "execution_count": null,
   "metadata": {},
   "outputs": [],
   "source": []
  }
 ],
 "metadata": {
  "kernelspec": {
   "display_name": "Julia 1.9.2",
   "language": "julia",
   "name": "julia-1.9"
  },
  "language_info": {
   "file_extension": ".jl",
   "mimetype": "application/julia",
   "name": "julia",
   "version": "1.9.2"
  },
  "orig_nbformat": 4
 },
 "nbformat": 4,
 "nbformat_minor": 2
}
