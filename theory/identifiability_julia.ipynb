{
 "cells": [
  {
   "cell_type": "code",
   "execution_count": 1,
   "metadata": {},
   "outputs": [
    {
     "name": "stdout",
     "output_type": "stream",
     "text": [
      "Hola"
     ]
    }
   ],
   "source": [
    "#using Pkg\n",
    "#Pkg.add(\"StructuralIdentifiability\")\n",
    "\n",
    "# import package\n",
    "using StructuralIdentifiability\n",
    "\n",
    "print(\"Hola\")"
   ]
  },
  {
   "cell_type": "code",
   "execution_count": 2,
   "metadata": {},
   "outputs": [],
   "source": [
    "model = @ODEmodel(\n",
    "        s'(t) = (1-g) * sigma * Nw - (b * c(t) / Nw) * s(t)  - delta * s(t) + tau * c(t),\n",
    "        c'(t) = g * sigma * Nw     + (b * c(t) / Nw) * s(t) - delta * c(t) - tau * c(t),\n",
    "        y(t)  = ro * (c(t) / Nw)\n",
    "    )\n",
    "\n",
    "assess_identifiability(model, [b, g, ro])\n"
   ]
  },
  {
   "cell_type": "code",
   "execution_count": null,
   "metadata": {},
   "outputs": [],
   "source": [
    "model = @ODEmodel(\n",
    "        s'(t) = (1-g) * sigma * Nw - (b * c(t) / Nw + w(t)) * s(t) - delta * s(t) + tau * c(t),\n",
    "        c'(t) = g * sigma * Nw     + (b * c(t) / Nw + w(t)) * s(t) - delta * c(t) - tau * c(t),\n",
    "        w'(t) = teta * (c(t) / Nw)  - alpha * w(t),\n",
    "        y(t)  = ro * (c(t) / Nw)\n",
    "    )\n",
    "\n",
    "assess_identifiability(model, [b, teta, g, ro])\n"
   ]
  },
  {
   "cell_type": "code",
   "execution_count": null,
   "metadata": {},
   "outputs": [],
   "source": [
    "model = @ODEmodel(\n",
    "    s'(t) = (1-gamma) * sigma * Nw - (beta * c(t) / Nw + w(t)) * s(t) - delta * s(t) + tau * c(t),\n",
    "    c'(t) = gamma * sigma * Nw    +  (beta * c(t) / Nw + w(t)) * s(t) - delta * c(t) - tau * c(t),\n",
    "    w'(t) = teta * (c(t) / Nw )/((c(t) / Nw) + Kw) - alpha * w(t),\n",
    "    y(t)  = ro * (c(t) / Nw)\n",
    "    )\n",
    "\n",
    "assess_identifiability(model, [beta, teta, gamma, ro])\n"
   ]
  },
  {
   "cell_type": "code",
   "execution_count": null,
   "metadata": {},
   "outputs": [],
   "source": []
  },
  {
   "cell_type": "code",
   "execution_count": null,
   "metadata": {},
   "outputs": [],
   "source": []
  }
 ],
 "metadata": {
  "kernelspec": {
   "display_name": "Julia 1.9.2",
   "language": "julia",
   "name": "julia-1.9"
  },
  "language_info": {
   "file_extension": ".jl",
   "mimetype": "application/julia",
   "name": "julia",
   "version": "1.9.2"
  },
  "orig_nbformat": 4
 },
 "nbformat": 4,
 "nbformat_minor": 2
}
