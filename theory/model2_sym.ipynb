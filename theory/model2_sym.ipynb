{
 "cells": [
  {
   "cell_type": "code",
   "execution_count": 1,
   "metadata": {},
   "outputs": [],
   "source": [
    "import sys\n",
    "\n",
    "sys.path.insert(0, \"../\")\n",
    "from utils_local import plot_utils\n",
    "import sympy as sp\n",
    "import os\n",
    "\n",
    "from global_config import config\n",
    "\n",
    "results_dir           = config.get_property('results_dir')\n",
    "data_dir              = config.get_property('data_dir')\n",
    "paper_dir             = config.get_property('paper_dir')\n",
    "figures_dir = os.path.join(results_dir, 'figures')\n"
   ]
  },
  {
   "cell_type": "code",
   "execution_count": 2,
   "metadata": {},
   "outputs": [
    {
     "name": "stdout",
     "output_type": "stream",
     "text": [
      "\\bar{S}= \\frac{N \\sigma}{\\delta}\n",
      "\\bar{C}= 0\n",
      "\\bar{\\epsilon}= 0\n",
      "\n",
      "\n",
      "\\bar{S}= \\frac{N \\left(K \\beta \\delta \\kappa + \\beta \\kappa \\sigma + \\delta^{2} \\kappa + \\delta \\theta + \\delta \\kappa \\tau - \\sqrt{K^{2} \\beta^{2} \\delta^{2} \\kappa^{2} + 2 K \\beta^{2} \\delta \\kappa^{2} \\sigma - 2 K \\beta \\delta^{3} \\kappa^{2} + 2 K \\beta \\delta^{2} \\theta \\kappa - 2 K \\beta \\delta^{2} \\kappa^{2} \\tau + \\beta^{2} \\kappa^{2} \\sigma^{2} - 2 \\beta \\delta^{2} \\kappa^{2} \\sigma + 2 \\beta \\delta \\theta \\kappa \\sigma - 2 \\beta \\delta \\kappa^{2} \\sigma \\tau + \\delta^{4} \\kappa^{2} + 2 \\delta^{3} \\theta \\kappa + 2 \\delta^{3} \\kappa^{2} \\tau + \\delta^{2} \\theta^{2} + 2 \\delta^{2} \\theta \\kappa \\tau + \\delta^{2} \\kappa^{2} \\tau^{2}}\\right)}{2 \\beta \\delta \\kappa}\n",
      "\\bar{C}= \\frac{N \\left(- K \\beta \\delta \\kappa + \\beta \\kappa \\sigma - \\delta^{2} \\kappa - \\delta \\theta - \\delta \\kappa \\tau + \\sqrt{K^{2} \\beta^{2} \\delta^{2} \\kappa^{2} + 2 K \\beta^{2} \\delta \\kappa^{2} \\sigma - 2 K \\beta \\delta^{3} \\kappa^{2} + 2 K \\beta \\delta^{2} \\theta \\kappa - 2 K \\beta \\delta^{2} \\kappa^{2} \\tau + \\beta^{2} \\kappa^{2} \\sigma^{2} - 2 \\beta \\delta^{2} \\kappa^{2} \\sigma + 2 \\beta \\delta \\theta \\kappa \\sigma - 2 \\beta \\delta \\kappa^{2} \\sigma \\tau + \\delta^{4} \\kappa^{2} + 2 \\delta^{3} \\theta \\kappa + 2 \\delta^{3} \\kappa^{2} \\tau + \\delta^{2} \\theta^{2} + 2 \\delta^{2} \\theta \\kappa \\tau + \\delta^{2} \\kappa^{2} \\tau^{2}}\\right)}{2 \\beta \\delta \\kappa}\n",
      "\\bar{\\epsilon}= \\frac{K^{2} \\beta \\delta \\kappa + K \\beta \\kappa \\sigma - K \\delta^{2} \\kappa + K \\delta \\theta - K \\delta \\kappa \\tau - K \\sqrt{K^{2} \\beta^{2} \\delta^{2} \\kappa^{2} + 2 K \\beta^{2} \\delta \\kappa^{2} \\sigma - 2 K \\beta \\delta^{3} \\kappa^{2} + 2 K \\beta \\delta^{2} \\theta \\kappa - 2 K \\beta \\delta^{2} \\kappa^{2} \\tau + \\beta^{2} \\kappa^{2} \\sigma^{2} - 2 \\beta \\delta^{2} \\kappa^{2} \\sigma + 2 \\beta \\delta \\theta \\kappa \\sigma - 2 \\beta \\delta \\kappa^{2} \\sigma \\tau + \\delta^{4} \\kappa^{2} + 2 \\delta^{3} \\theta \\kappa + 2 \\delta^{3} \\kappa^{2} \\tau + \\delta^{2} \\theta^{2} + 2 \\delta^{2} \\theta \\kappa \\tau + \\delta^{2} \\kappa^{2} \\tau^{2}} + 2 \\theta \\sigma}{2 \\kappa \\left(K \\delta + \\sigma\\right)}\n",
      "\n",
      "\n",
      "\\bar{S}= \\frac{N \\left(K \\beta \\delta \\kappa + \\beta \\kappa \\sigma + \\delta^{2} \\kappa + \\delta \\theta + \\delta \\kappa \\tau + \\sqrt{K^{2} \\beta^{2} \\delta^{2} \\kappa^{2} + 2 K \\beta^{2} \\delta \\kappa^{2} \\sigma - 2 K \\beta \\delta^{3} \\kappa^{2} + 2 K \\beta \\delta^{2} \\theta \\kappa - 2 K \\beta \\delta^{2} \\kappa^{2} \\tau + \\beta^{2} \\kappa^{2} \\sigma^{2} - 2 \\beta \\delta^{2} \\kappa^{2} \\sigma + 2 \\beta \\delta \\theta \\kappa \\sigma - 2 \\beta \\delta \\kappa^{2} \\sigma \\tau + \\delta^{4} \\kappa^{2} + 2 \\delta^{3} \\theta \\kappa + 2 \\delta^{3} \\kappa^{2} \\tau + \\delta^{2} \\theta^{2} + 2 \\delta^{2} \\theta \\kappa \\tau + \\delta^{2} \\kappa^{2} \\tau^{2}}\\right)}{2 \\beta \\delta \\kappa}\n",
      "\\bar{C}= \\frac{N \\left(- K \\beta \\delta \\kappa + \\beta \\kappa \\sigma - \\delta^{2} \\kappa - \\delta \\theta - \\delta \\kappa \\tau - \\sqrt{K^{2} \\beta^{2} \\delta^{2} \\kappa^{2} + 2 K \\beta^{2} \\delta \\kappa^{2} \\sigma - 2 K \\beta \\delta^{3} \\kappa^{2} + 2 K \\beta \\delta^{2} \\theta \\kappa - 2 K \\beta \\delta^{2} \\kappa^{2} \\tau + \\beta^{2} \\kappa^{2} \\sigma^{2} - 2 \\beta \\delta^{2} \\kappa^{2} \\sigma + 2 \\beta \\delta \\theta \\kappa \\sigma - 2 \\beta \\delta \\kappa^{2} \\sigma \\tau + \\delta^{4} \\kappa^{2} + 2 \\delta^{3} \\theta \\kappa + 2 \\delta^{3} \\kappa^{2} \\tau + \\delta^{2} \\theta^{2} + 2 \\delta^{2} \\theta \\kappa \\tau + \\delta^{2} \\kappa^{2} \\tau^{2}}\\right)}{2 \\beta \\delta \\kappa}\n",
      "\\bar{\\epsilon}= \\frac{K^{2} \\beta \\delta \\kappa + K \\beta \\kappa \\sigma - K \\delta^{2} \\kappa + K \\delta \\theta - K \\delta \\kappa \\tau + K \\sqrt{K^{2} \\beta^{2} \\delta^{2} \\kappa^{2} + 2 K \\beta^{2} \\delta \\kappa^{2} \\sigma - 2 K \\beta \\delta^{3} \\kappa^{2} + 2 K \\beta \\delta^{2} \\theta \\kappa - 2 K \\beta \\delta^{2} \\kappa^{2} \\tau + \\beta^{2} \\kappa^{2} \\sigma^{2} - 2 \\beta \\delta^{2} \\kappa^{2} \\sigma + 2 \\beta \\delta \\theta \\kappa \\sigma - 2 \\beta \\delta \\kappa^{2} \\sigma \\tau + \\delta^{4} \\kappa^{2} + 2 \\delta^{3} \\theta \\kappa + 2 \\delta^{3} \\kappa^{2} \\tau + \\delta^{2} \\theta^{2} + 2 \\delta^{2} \\theta \\kappa \\tau + \\delta^{2} \\kappa^{2} \\tau^{2}} + 2 \\theta \\sigma}{2 \\kappa \\left(K \\delta + \\sigma\\right)}\n"
     ]
    }
   ],
   "source": [
    "# Define symbols.\n",
    "σ, γ, β, α, δ, τ, Nw, κ, θ, Kc = sp.symbols('σ γ β α δ τ N κ θ K')\n",
    "\n",
    "# Define variables.\n",
    "S, C, ε = sp.var('S C ε')\n",
    "\n",
    "\n",
    "\n",
    "λ    = β * C / Nw + ε\n",
    "\n",
    "eq1 = sp.Eq(0, (1-0) * σ * Nw - λ * S - δ * S + τ * C)\n",
    "eq2 = sp.Eq(0,       λ * S    - δ * C - τ * C)\n",
    "eq3 = sp.Eq(0, θ * (C/Nw)/(C/Nw+ Kc) - κ * ε)\n",
    "\n",
    "equilibria = [sp.simplify(l) for l in sp.solve([eq1, eq2, eq3], [S, C, ε])]\n",
    "\n",
    "####-####-####-####\n",
    "eql0    = [sp.simplify(l) for l in equilibria[0]]\n",
    "eql1    = [sp.simplify(l) for l in equilibria[1]]\n",
    "eql2    = [sp.simplify(l) for l in equilibria[2]]\n",
    "\n",
    "####-####-####-####\n",
    "\n",
    "variables = [\"\\\\bar{S}\", \"\\\\bar{C}\", \"\\\\bar{\\epsilon}\"]\n",
    "for idx_s, l in enumerate(eql0):\n",
    "    print(variables[idx_s]+\"=\", sp.latex(l).replace(\"β\", \"\\\\beta\").replace(\"τ\", \"\\\\tau\").replace(\"δ\", \"\\delta\").replace(\"γ\", \"\\gamma\").replace(\"σ\", \"\\sigma\").replace(\"κ\", \"\\kappa\").replace(\"θ\", \"\\\\theta\"))\n",
    "\n",
    "print( \"\\n\" )\n",
    "\n",
    "for idx_s, l in enumerate(eql1):\n",
    "    print(variables[idx_s]+\"=\", sp.latex(l).replace(\"β\", \"\\\\beta\").replace(\"τ\", \"\\\\tau\").replace(\"δ\", \"\\delta\").replace(\"α\", \"\\\\alpha\").replace(\"γ\", \"\\gamma\").replace(\"σ\", \"\\sigma\").replace(\"κ\", \"\\kappa\").replace(\"θ\", \"\\\\theta\"))\n",
    "\n",
    "print( \"\\n\" )\n",
    "\n",
    "for idx_s, l in enumerate(eql2):\n",
    "    print(variables[idx_s]+\"=\", sp.latex(l).replace(\"β\", \"\\\\beta\").replace(\"τ\", \"\\\\tau\").replace(\"δ\", \"\\delta\").replace(\"α\", \"\\\\alpha\").replace(\"γ\", \"\\gamma\").replace(\"σ\", \"\\sigma\").replace(\"κ\", \"\\kappa\").replace(\"θ\", \"\\\\theta\"))\n"
   ]
  },
  {
   "attachments": {},
   "cell_type": "markdown",
   "metadata": {},
   "source": [
    "# Assuming importations are negligible\n",
    "\n",
    "1. DFE\n",
    "\n",
    "    \\begin{equation}\n",
    "        \\begin{split}\n",
    "            \\bar{S}=& \\frac{N \\sigma}{\\delta}\\\\\n",
    "            \\bar{C}=& 0\\\\\n",
    "            \\bar{\\epsilon}=&0\n",
    "        \\end{split}\n",
    "    \\end{equation}\n",
    "2. non-DFE\n",
    "\n",
    "    \\begin{equation}\n",
    "        \\begin{split}\n",
    "            \\bar{S}=& \\frac{N \\left(Kc \\beta \\delta \\kappa + \\beta \\kappa \\sigma + \\delta^{2} \\kappa + \\delta \\theta + \\delta \\kappa \\tau - \\sqrt{Kc^{2} \\beta^{2} \\delta^{2} \\kappa^{2} + 2 Kc \\beta^{2} \\delta \\kappa^{2} \\sigma - 2 Kc \\beta \\delta^{3} \\kappa^{2} + 2 Kc \\beta \\delta^{2} \\theta \\kappa - 2 Kc \\beta \\delta^{2} \\kappa^{2} \\tau + \\beta^{2} \\kappa^{2} \\sigma^{2} - 2 \\beta \\delta^{2} \\kappa^{2} \\sigma + 2 \\beta \\delta \\theta \\kappa \\sigma - 2 \\beta \\delta \\kappa^{2} \\sigma \\tau + \\delta^{4} \\kappa^{2} + 2 \\delta^{3} \\theta \\kappa + 2 \\delta^{3} \\kappa^{2} \\tau + \\delta^{2} \\theta^{2} + 2 \\delta^{2} \\theta \\kappa \\tau + \\delta^{2} \\kappa^{2} \\tau^{2}}\\right)}{2 \\beta \\delta \\kappa}\\\\\n",
    "            \\bar{C}=& \\frac{N \\left(\\beta \\kappa \\sigma - \\delta^{2} \\kappa - \\delta \\kappa \\tau + \\theta \\sigma\\right)}{\\delta \\left(\\beta \\kappa + \\theta\\right)}\\\\\n",
    "            \\bar{\\epsilon}=& \\frac{\\theta \\left(\\beta \\kappa \\sigma - \\delta^{2} \\kappa - \\delta \\kappa \\tau + \\theta \\sigma\\right)}{\\delta \\kappa \\left(\\beta \\kappa + \\theta\\right)}\n",
    "        \\end{split}\n",
    "    \\end{equation}\n"
   ]
  },
  {
   "cell_type": "code",
   "execution_count": null,
   "metadata": {},
   "outputs": [],
   "source": []
  },
  {
   "cell_type": "markdown",
   "metadata": {},
   "source": [
    "# next generation matrix"
   ]
  },
  {
   "cell_type": "code",
   "execution_count": 4,
   "metadata": {},
   "outputs": [
    {
     "name": "stdout",
     "output_type": "stream",
     "text": [
      "$\\lambda$_1=\\frac{C \\beta κ \\sigma + K N \\beta κ \\sigma - \\sqrt{κ \\sigma \\left(C^2 \\beta^2 κ \\sigma + 2 C K N \\beta^2 κ \\sigma + K^2 N^2 \\beta^2 κ \\sigma + 4 K N^2 \\delta^2 θ + 4 K N^2 \\delta θ \\tau\\right)}}{2 \\delta κ \\left(C \\delta + C \\tau + K N \\delta + K N \\tau\\right)}\n",
      "$\\lambda$_2=\\frac{C \\beta κ \\sigma + K N \\beta κ \\sigma + \\sqrt{κ \\sigma \\left(C^2 \\beta^2 κ \\sigma + 2 C K N \\beta^2 κ \\sigma + K^2 N^2 \\beta^2 κ \\sigma + 4 K N^2 \\delta^2 θ + 4 K N^2 \\delta θ \\tau\\right)}}{2 \\delta κ \\left(C \\delta + C \\tau + K N \\delta + K N \\tau\\right)}\n"
     ]
    }
   ],
   "source": [
    "# NGM\n",
    "eq1 = sp.Eq(0, (1-γ) * σ * Nw - λ * S - δ * S + τ * C)\n",
    "eq2 = sp.Eq(0, γ * σ * Nw     + λ * S - δ * C - τ * C)\n",
    "eq3 = sp.Eq(0, θ * (C / Nw)/((C / Nw)+Kc) - κ * ε)\n",
    "\n",
    "f1 = β * S * (C)/Nw + ε * S\n",
    "f2 = θ * (C / Nw)/((C / Nw )+ Kc)\n",
    "\n",
    "v1 = τ * C + δ * C\n",
    "v2 = κ * ε\n",
    "\n",
    "F     = sp.Matrix([f1, f2]); F = F.jacobian([C, ε])\n",
    "V     = sp.Matrix([v1, v2]); V = V.jacobian([C, ε])\n",
    "V_inv = V.inv()\n",
    "\n",
    "Rnots = sp.MatMul(F * V_inv)\n",
    "Rnots = sp.Matrix(Rnots).subs(S, Nw * σ / δ)\n",
    "Rnots = list(Rnots.eigenvals().keys())\n",
    "\n",
    "for idx_l, l in enumerate(Rnots):\n",
    "\n",
    "    l = sp.collect(sp.simplify(l), β/(κ + τ ))\n",
    "\n",
    "    print(r\"$\\lambda$_{}=\".format(idx_l+1)+\"\"+sp.latex(l).replace(\"β\", \"\\\\beta\").replace(\"τ\", \"\\\\tau\").replace(\"δ\", \"\\delta\").replace(\"α\", \"\\\\alpha\").replace(\"γ\", \"\\gamma\").replace(\"σ\", \"\\sigma\").replace(\"{2}\", \"2\").replace(\"{1}\", \"1\"))\n"
   ]
  },
  {
   "cell_type": "markdown",
   "metadata": {},
   "source": [
    "\n",
    "$$\\lambda_1=\\frac{C \\beta κ \\sigma + K N \\beta κ \\sigma - \\sqrt{κ \\sigma \\left(C^2 \\beta^2 κ \\sigma + 2 C K N \\beta^2 κ \\sigma + K^2 N^2 \\beta^2 κ \\sigma + 4 K N^2 \\delta^2 θ + 4 K N^2 \\delta θ \\tau\\right)}}{2 \\delta κ \\left(C \\delta + C \\tau + K N \\delta + K N \\tau\\right)}$$\n",
    "\n",
    "$$\\lambda_2=\\frac{C \\beta κ \\sigma + K N \\beta κ \\sigma + \\sqrt{κ \\sigma \\left(C^2 \\beta^2 κ \\sigma + 2 C K N \\beta^2 κ \\sigma + K^2 N^2 \\beta^2 κ \\sigma + 4 K N^2 \\delta^2 θ + 4 K N^2 \\delta θ \\tau\\right)}}{2 \\delta κ \\left(C \\delta + C \\tau + K N \\delta + K N \\tau\\right)}$$"
   ]
  },
  {
   "cell_type": "markdown",
   "metadata": {},
   "source": [
    "$$\\lambda_2=\\frac{C \\beta κ \\sigma + K N \\beta κ \\sigma + \\sqrt{κ \\sigma \\left(C^2 \\beta^2 κ \\sigma + 2 C K N \\beta^2 κ \\sigma + K^2 N^2 \\beta^2 κ \\sigma + 4 K N^2 \\delta^2 θ + 4 K N^2 \\delta θ \\tau\\right)}}{2 \\delta κ \\left(C \\delta + C \\tau + K N \\delta + K N \\tau\\right)}$$"
   ]
  },
  {
   "cell_type": "markdown",
   "metadata": {},
   "source": []
  }
 ],
 "metadata": {
  "kernelspec": {
   "display_name": "pompjax",
   "language": "python",
   "name": "python3"
  },
  "language_info": {
   "codemirror_mode": {
    "name": "ipython",
    "version": 3
   },
   "file_extension": ".py",
   "mimetype": "text/x-python",
   "name": "python",
   "nbconvert_exporter": "python",
   "pygments_lexer": "ipython3",
   "version": "3.8.13"
  },
  "orig_nbformat": 4
 },
 "nbformat": 4,
 "nbformat_minor": 2
}
