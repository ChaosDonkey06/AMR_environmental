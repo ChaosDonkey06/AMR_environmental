{
 "cells": [
  {
   "cell_type": "code",
   "execution_count": 1,
   "metadata": {},
   "outputs": [],
   "source": [
    "import sys\n",
    "\n",
    "sys.path.insert(0, \"../\")\n",
    "from utils_local import plot_utils\n",
    "import sympy as sp\n",
    "import os\n",
    "\n",
    "from global_config import config\n",
    "\n",
    "results_dir           = config.get_property('results_dir')\n",
    "data_dir              = config.get_property('data_dir')\n",
    "paper_dir             = config.get_property('paper_dir')\n",
    "figures_dir = os.path.join(results_dir, 'figures')\n"
   ]
  },
  {
   "cell_type": "code",
   "execution_count": 2,
   "metadata": {},
   "outputs": [
    {
     "name": "stdout",
     "output_type": "stream",
     "text": [
      "\\bar{S}= \\frac{N \\sigma}{\\delta}\n",
      "\\bar{C}= 0\n",
      "\\bar{\\epsilon}= 0\n",
      "\n",
      "\n",
      "\\bar{S}= \\frac{N \\left(K \\beta \\delta \\kappa + \\beta \\kappa \\sigma + \\delta^{2} \\kappa + \\delta \\theta + \\delta \\kappa \\tau - \\sqrt{K^{2} \\beta^{2} \\delta^{2} \\kappa^{2} + 2 K \\beta^{2} \\delta \\kappa^{2} \\sigma - 2 K \\beta \\delta^{3} \\kappa^{2} + 2 K \\beta \\delta^{2} \\theta \\kappa - 2 K \\beta \\delta^{2} \\kappa^{2} \\tau + \\beta^{2} \\kappa^{2} \\sigma^{2} - 2 \\beta \\delta^{2} \\kappa^{2} \\sigma + 2 \\beta \\delta \\theta \\kappa \\sigma - 2 \\beta \\delta \\kappa^{2} \\sigma \\tau + \\delta^{4} \\kappa^{2} + 2 \\delta^{3} \\theta \\kappa + 2 \\delta^{3} \\kappa^{2} \\tau + \\delta^{2} \\theta^{2} + 2 \\delta^{2} \\theta \\kappa \\tau + \\delta^{2} \\kappa^{2} \\tau^{2}}\\right)}{2 \\beta \\delta \\kappa}\n",
      "\\bar{C}= \\frac{N \\left(- K \\beta \\delta \\kappa + \\beta \\kappa \\sigma - \\delta^{2} \\kappa - \\delta \\theta - \\delta \\kappa \\tau + \\sqrt{K^{2} \\beta^{2} \\delta^{2} \\kappa^{2} + 2 K \\beta^{2} \\delta \\kappa^{2} \\sigma - 2 K \\beta \\delta^{3} \\kappa^{2} + 2 K \\beta \\delta^{2} \\theta \\kappa - 2 K \\beta \\delta^{2} \\kappa^{2} \\tau + \\beta^{2} \\kappa^{2} \\sigma^{2} - 2 \\beta \\delta^{2} \\kappa^{2} \\sigma + 2 \\beta \\delta \\theta \\kappa \\sigma - 2 \\beta \\delta \\kappa^{2} \\sigma \\tau + \\delta^{4} \\kappa^{2} + 2 \\delta^{3} \\theta \\kappa + 2 \\delta^{3} \\kappa^{2} \\tau + \\delta^{2} \\theta^{2} + 2 \\delta^{2} \\theta \\kappa \\tau + \\delta^{2} \\kappa^{2} \\tau^{2}}\\right)}{2 \\beta \\delta \\kappa}\n",
      "\\bar{\\epsilon}= \\frac{K^{2} \\beta \\delta \\kappa + K \\beta \\kappa \\sigma - K \\delta^{2} \\kappa + K \\delta \\theta - K \\delta \\kappa \\tau - K \\sqrt{K^{2} \\beta^{2} \\delta^{2} \\kappa^{2} + 2 K \\beta^{2} \\delta \\kappa^{2} \\sigma - 2 K \\beta \\delta^{3} \\kappa^{2} + 2 K \\beta \\delta^{2} \\theta \\kappa - 2 K \\beta \\delta^{2} \\kappa^{2} \\tau + \\beta^{2} \\kappa^{2} \\sigma^{2} - 2 \\beta \\delta^{2} \\kappa^{2} \\sigma + 2 \\beta \\delta \\theta \\kappa \\sigma - 2 \\beta \\delta \\kappa^{2} \\sigma \\tau + \\delta^{4} \\kappa^{2} + 2 \\delta^{3} \\theta \\kappa + 2 \\delta^{3} \\kappa^{2} \\tau + \\delta^{2} \\theta^{2} + 2 \\delta^{2} \\theta \\kappa \\tau + \\delta^{2} \\kappa^{2} \\tau^{2}} + 2 \\theta \\sigma}{2 \\kappa \\left(K \\delta + \\sigma\\right)}\n",
      "\n",
      "\n",
      "\\bar{S}= \\frac{N \\left(K \\beta \\delta \\kappa + \\beta \\kappa \\sigma + \\delta^{2} \\kappa + \\delta \\theta + \\delta \\kappa \\tau + \\sqrt{K^{2} \\beta^{2} \\delta^{2} \\kappa^{2} + 2 K \\beta^{2} \\delta \\kappa^{2} \\sigma - 2 K \\beta \\delta^{3} \\kappa^{2} + 2 K \\beta \\delta^{2} \\theta \\kappa - 2 K \\beta \\delta^{2} \\kappa^{2} \\tau + \\beta^{2} \\kappa^{2} \\sigma^{2} - 2 \\beta \\delta^{2} \\kappa^{2} \\sigma + 2 \\beta \\delta \\theta \\kappa \\sigma - 2 \\beta \\delta \\kappa^{2} \\sigma \\tau + \\delta^{4} \\kappa^{2} + 2 \\delta^{3} \\theta \\kappa + 2 \\delta^{3} \\kappa^{2} \\tau + \\delta^{2} \\theta^{2} + 2 \\delta^{2} \\theta \\kappa \\tau + \\delta^{2} \\kappa^{2} \\tau^{2}}\\right)}{2 \\beta \\delta \\kappa}\n",
      "\\bar{C}= \\frac{N \\left(- K \\beta \\delta \\kappa + \\beta \\kappa \\sigma - \\delta^{2} \\kappa - \\delta \\theta - \\delta \\kappa \\tau - \\sqrt{K^{2} \\beta^{2} \\delta^{2} \\kappa^{2} + 2 K \\beta^{2} \\delta \\kappa^{2} \\sigma - 2 K \\beta \\delta^{3} \\kappa^{2} + 2 K \\beta \\delta^{2} \\theta \\kappa - 2 K \\beta \\delta^{2} \\kappa^{2} \\tau + \\beta^{2} \\kappa^{2} \\sigma^{2} - 2 \\beta \\delta^{2} \\kappa^{2} \\sigma + 2 \\beta \\delta \\theta \\kappa \\sigma - 2 \\beta \\delta \\kappa^{2} \\sigma \\tau + \\delta^{4} \\kappa^{2} + 2 \\delta^{3} \\theta \\kappa + 2 \\delta^{3} \\kappa^{2} \\tau + \\delta^{2} \\theta^{2} + 2 \\delta^{2} \\theta \\kappa \\tau + \\delta^{2} \\kappa^{2} \\tau^{2}}\\right)}{2 \\beta \\delta \\kappa}\n",
      "\\bar{\\epsilon}= \\frac{K^{2} \\beta \\delta \\kappa + K \\beta \\kappa \\sigma - K \\delta^{2} \\kappa + K \\delta \\theta - K \\delta \\kappa \\tau + K \\sqrt{K^{2} \\beta^{2} \\delta^{2} \\kappa^{2} + 2 K \\beta^{2} \\delta \\kappa^{2} \\sigma - 2 K \\beta \\delta^{3} \\kappa^{2} + 2 K \\beta \\delta^{2} \\theta \\kappa - 2 K \\beta \\delta^{2} \\kappa^{2} \\tau + \\beta^{2} \\kappa^{2} \\sigma^{2} - 2 \\beta \\delta^{2} \\kappa^{2} \\sigma + 2 \\beta \\delta \\theta \\kappa \\sigma - 2 \\beta \\delta \\kappa^{2} \\sigma \\tau + \\delta^{4} \\kappa^{2} + 2 \\delta^{3} \\theta \\kappa + 2 \\delta^{3} \\kappa^{2} \\tau + \\delta^{2} \\theta^{2} + 2 \\delta^{2} \\theta \\kappa \\tau + \\delta^{2} \\kappa^{2} \\tau^{2}} + 2 \\theta \\sigma}{2 \\kappa \\left(K \\delta + \\sigma\\right)}\n"
     ]
    }
   ],
   "source": [
    "# Define symbols.\n",
    "σ, γ, β, α, δ, τ, Nw, κ, θ, Kc = sp.symbols('σ γ β α δ τ N κ θ K')\n",
    "\n",
    "# Define variables.\n",
    "S, C, ε = sp.var('S C ε')\n",
    "\n",
    "\n",
    "\n",
    "λ    = β * C / Nw + ε\n",
    "\n",
    "eq1 = sp.Eq(0, (1-0) * σ * Nw - λ * S - δ * S + τ * C)\n",
    "eq2 = sp.Eq(0,       λ * S    - δ * C - τ * C)\n",
    "eq3 = sp.Eq(0, θ * (C/Nw)/(C/Nw+ Kc) - κ * ε)\n",
    "\n",
    "equilibria = [sp.simplify(l) for l in sp.solve([eq1, eq2, eq3], [S, C, ε])]\n",
    "\n",
    "####-####-####-####\n",
    "eql0    = [sp.simplify(l) for l in equilibria[0]]\n",
    "eql1    = [sp.simplify(l) for l in equilibria[1]]\n",
    "eql2    = [sp.simplify(l) for l in equilibria[2]]\n",
    "\n",
    "####-####-####-####\n",
    "\n",
    "variables = [\"\\\\bar{S}\", \"\\\\bar{C}\", \"\\\\bar{\\epsilon}\"]\n",
    "for idx_s, l in enumerate(eql0):\n",
    "    print(variables[idx_s]+\"=\", sp.latex(l).replace(\"β\", \"\\\\beta\").replace(\"τ\", \"\\\\tau\").replace(\"δ\", \"\\delta\").replace(\"γ\", \"\\gamma\").replace(\"σ\", \"\\sigma\").replace(\"κ\", \"\\kappa\").replace(\"θ\", \"\\\\theta\"))\n",
    "\n",
    "print( \"\\n\" )\n",
    "\n",
    "for idx_s, l in enumerate(eql1):\n",
    "    print(variables[idx_s]+\"=\", sp.latex(l).replace(\"β\", \"\\\\beta\").replace(\"τ\", \"\\\\tau\").replace(\"δ\", \"\\delta\").replace(\"α\", \"\\\\alpha\").replace(\"γ\", \"\\gamma\").replace(\"σ\", \"\\sigma\").replace(\"κ\", \"\\kappa\").replace(\"θ\", \"\\\\theta\"))\n",
    "\n",
    "print( \"\\n\" )\n",
    "\n",
    "for idx_s, l in enumerate(eql2):\n",
    "    print(variables[idx_s]+\"=\", sp.latex(l).replace(\"β\", \"\\\\beta\").replace(\"τ\", \"\\\\tau\").replace(\"δ\", \"\\delta\").replace(\"α\", \"\\\\alpha\").replace(\"γ\", \"\\gamma\").replace(\"σ\", \"\\sigma\").replace(\"κ\", \"\\kappa\").replace(\"θ\", \"\\\\theta\"))\n"
   ]
  },
  {
   "attachments": {},
   "cell_type": "markdown",
   "metadata": {},
   "source": [
    "# Assuming importations are negligible\n",
    "\n",
    "1. DFE\n",
    "\n",
    "    \\begin{equation}\n",
    "        \\begin{split}\n",
    "            \\bar{S}=& \\frac{N \\sigma}{\\delta}\\\\\n",
    "            \\bar{C}=& 0\\\\\n",
    "            \\bar{\\epsilon}=&0\n",
    "        \\end{split}\n",
    "    \\end{equation}\n",
    "2. non-DFE\n",
    "\n",
    "    \\begin{equation}\n",
    "        \\begin{split}\n",
    "            \\bar{S}=& \\frac{N \\left(Kc \\beta \\delta \\kappa + \\beta \\kappa \\sigma + \\delta^{2} \\kappa + \\delta \\theta + \\delta \\kappa \\tau - \\sqrt{Kc^{2} \\beta^{2} \\delta^{2} \\kappa^{2} + 2 Kc \\beta^{2} \\delta \\kappa^{2} \\sigma - 2 Kc \\beta \\delta^{3} \\kappa^{2} + 2 Kc \\beta \\delta^{2} \\theta \\kappa - 2 Kc \\beta \\delta^{2} \\kappa^{2} \\tau + \\beta^{2} \\kappa^{2} \\sigma^{2} - 2 \\beta \\delta^{2} \\kappa^{2} \\sigma + 2 \\beta \\delta \\theta \\kappa \\sigma - 2 \\beta \\delta \\kappa^{2} \\sigma \\tau + \\delta^{4} \\kappa^{2} + 2 \\delta^{3} \\theta \\kappa + 2 \\delta^{3} \\kappa^{2} \\tau + \\delta^{2} \\theta^{2} + 2 \\delta^{2} \\theta \\kappa \\tau + \\delta^{2} \\kappa^{2} \\tau^{2}}\\right)}{2 \\beta \\delta \\kappa}\\\\\n",
    "            \\bar{C}=& \\frac{N \\left(\\beta \\kappa \\sigma - \\delta^{2} \\kappa - \\delta \\kappa \\tau + \\theta \\sigma\\right)}{\\delta \\left(\\beta \\kappa + \\theta\\right)}\\\\\n",
    "            \\bar{\\epsilon}=& \\frac{\\theta \\left(\\beta \\kappa \\sigma - \\delta^{2} \\kappa - \\delta \\kappa \\tau + \\theta \\sigma\\right)}{\\delta \\kappa \\left(\\beta \\kappa + \\theta\\right)}\n",
    "        \\end{split}\n",
    "    \\end{equation}\n"
   ]
  },
  {
   "cell_type": "code",
   "execution_count": null,
   "metadata": {},
   "outputs": [],
   "source": []
  },
  {
   "cell_type": "code",
   "execution_count": null,
   "metadata": {},
   "outputs": [],
   "source": []
  }
 ],
 "metadata": {
  "kernelspec": {
   "display_name": "pompjax",
   "language": "python",
   "name": "python3"
  },
  "language_info": {
   "codemirror_mode": {
    "name": "ipython",
    "version": 3
   },
   "file_extension": ".py",
   "mimetype": "text/x-python",
   "name": "python",
   "nbconvert_exporter": "python",
   "pygments_lexer": "ipython3",
   "version": "3.8.13"
  },
  "orig_nbformat": 4
 },
 "nbformat": 4,
 "nbformat_minor": 2
}
