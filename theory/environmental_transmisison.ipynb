{
 "cells": [
  {
   "cell_type": "code",
   "execution_count": 1,
   "metadata": {},
   "outputs": [],
   "source": [
    "from diffrax import diffeqsolve, ODETerm, Dopri5, SaveAt, LinearInterpolation, Kvaerno5\n",
    "from jax import grad, jit, vmap\n",
    "import jax.numpy as np\n",
    "import pandas as pd\n",
    "import numpy as onp\n",
    "\n",
    "import matplotlib.pyplot as plt"
   ]
  },
  {
   "cell_type": "code",
   "execution_count": 2,
   "metadata": {},
   "outputs": [],
   "source": [
    "def fomite_foi_sc(t, x, params):\n",
    "    S, C, ε = x\n",
    "\n",
    "    # p2p\n",
    "    γ  = params[\"γ\"]\n",
    "    β  = params[\"β\"]\n",
    "    σ  = params[\"σ\"]\n",
    "    δ  = params[\"δ\"]\n",
    "    α  = params[\"δ\"]\n",
    "    Nw = params[\"Nw\"]\n",
    "\n",
    "    # fom\n",
    "    θ = params[\"θ\"]\n",
    "    κ = params[\"κ\"]\n",
    "\n",
    "    λ1 = β * C / Nw\n",
    "    λ2 = ε\n",
    "\n",
    "    λ = λ1 + λ2\n",
    "\n",
    "    sdot = (1-γ) * σ * Nw - λ * S - δ * S + α * C\n",
    "    idot = γ * σ     + λ * S - δ * C - α * C\n",
    "    εdot = θ * C / Nw - κ * ε\n",
    "\n",
    "    return np.array([sdot, idot, εdot])\n"
   ]
  },
  {
   "cell_type": "code",
   "execution_count": 3,
   "metadata": {},
   "outputs": [],
   "source": [
    "params_sim_df = pd.DataFrame(columns=[\"γ\", \"β\", \"θ\", \"κ\"])\n",
    "\n",
    "\n",
    "gammas = [5/100, 15/100, 25/100, 50/100, 75/100, 80/100]\n",
    "betas  = [0.01, 0.025, 0.05, 0.1]\n",
    "tetas  = [1e-3, 1.5e-3, 1e-2]\n",
    "kappas = [1/(1 * 30),  1/(3*30), 1/(6*30), 1/(12*30), 1/(24*30), 1/(36*30)]\n",
    "\n",
    "idx_sim =1\n",
    "for g in gammas:\n",
    "    for κ in kappas:\n",
    "        for b in betas:\n",
    "            for θ in tetas:\n",
    "                    params_sim_df = pd.concat([params_sim_df, pd.DataFrame.from_dict({\"γ\": g, \"β\": b, \"θ\": θ, \"κ\": κ, \"sim_id\": int(idx_sim)}, orient=\"index\").T ], ignore_index=True)\n",
    "                    idx_sim += 1\n"
   ]
  },
  {
   "cell_type": "code",
   "execution_count": 4,
   "metadata": {},
   "outputs": [],
   "source": [
    "import diffrax\n",
    "\n",
    "num_years = 4.5\n",
    "t_max     = int((365 / 7 ) * num_years )      # simulate for 5 yrs but weekly\n",
    "tsim      = np.arange(0, t_max+1) # list of days to simulate\n",
    "num_sims  = len(params_sim_df.sim_id.unique())\n",
    "\n",
    "solutions_arr = np.array([[],[],[],[],[],[],[],[]])\n",
    "for idx_row, row in params_sim_df.iterrows():\n",
    "\n",
    "        params = {\n",
    "                \"β\":  row.β * 7,\n",
    "                \"γ\":  row.γ,\n",
    "                \"σ\":  1/3 * 7,\n",
    "                \"δ\":  1/3 * 7,\n",
    "                \"α\":  1/120 * 7,\n",
    "                \"Nw\": 2000,\n",
    "                \"θ\" : row.θ * 7,\n",
    "                \"κ\" : row.κ * 7\n",
    "                }\n",
    "\n",
    "        saveat = SaveAt(ts=tsim)\n",
    "        model  = lambda t, x, args: fomite_foi_sc(t, x, params)\n",
    "        term   = ODETerm(model)\n",
    "        solver = Dopri5()\n",
    "\n",
    "        stepsize_controller = diffrax.PIDController(rtol=1e-8, atol=1e-8)\n",
    "\n",
    "        c0 = int(row.γ * params[\"σ\"] * params[\"Nw\"])\n",
    "        ε0 = 1e-4 # row.θ/row.κ *1/(params[\"α\"] + params[\"δ\"])\n",
    "        y0 = np.array([1800,  c0, ε0 ])\n",
    "\n",
    "        solution = diffeqsolve(term, solver,\n",
    "                                        t0=0, t1=t_max,\n",
    "                                        saveat=saveat, dt0=1, y0=y0,\n",
    "                                        stepsize_controller = stepsize_controller)\n",
    "\n",
    "        s, c, ε       = solution.ys.T\n",
    "        y             = onp.concatenate([[solution.ts], [s], [c], [ε],\n",
    "                                                [row.γ*np.ones(t_max+1)], [row.κ*np.ones(t_max+1)], [row.β*np.ones(t_max+1)], [row.θ*np.ones(t_max+1)] ], axis=0)\n",
    "        solutions_arr = np.concatenate([solutions_arr, y], axis=1)\n",
    "solution_df  = pd.DataFrame(columns=[\"time\", \"S\", \"C\", \"ε\", \"γ\", \"κ\", \"β\", \"θ\"], data=solutions_arr.T)\n"
   ]
  },
  {
   "cell_type": "code",
   "execution_count": null,
   "metadata": {},
   "outputs": [],
   "source": [
    "import sys\n",
    "\n",
    "sys.path.insert(0, \"../\")\n",
    "from utils_local import plot_utils\n",
    "import seaborn as sns\n"
   ]
  },
  {
   "cell_type": "code",
   "execution_count": null,
   "metadata": {},
   "outputs": [],
   "source": [
    "g       = gammas[0]\n",
    "fig, ax = plt.subplots(len(tetas), len(kappas), figsize=(14.5, 9.2), sharex=True, sharey=False)\n",
    "\n",
    "for idx_k, k in enumerate(kappas):\n",
    "    ax[0, idx_k].set_title(r\"$1/\\kappa=${} month\".format(int(1/k / 30)))\n",
    "\n",
    "\n",
    "    for idx_teta, teta in enumerate(tetas):\n",
    "\n",
    "        sol_plt_df  = solution_df.query(f\"γ == {g} and κ == {k} and θ == {teta}\")\n",
    "        sns.lineplot(ax=ax[idx_teta, idx_k], x=\"time\", y=\"S\", data=sol_plt_df, hue=\"β\", palette=\"Reds\")\n",
    "\n",
    "        #ax_c        = ax[idx_teta, idx_k].twinx()\n",
    "        #sns.lineplot(ax=ax_c, x=\"time\", y=\"C\", data=sol_plt_df, hue=\"β\", palette=\"Blues\")\n",
    "\n",
    "for axi in ax.flatten():\n",
    "    axi.spines['right'].set_visible(False)\n",
    "    axi.spines['top'].set_visible(False)\n",
    "    axi.legend().remove()\n"
   ]
  },
  {
   "cell_type": "code",
   "execution_count": null,
   "metadata": {},
   "outputs": [],
   "source": []
  }
 ],
 "metadata": {
  "kernelspec": {
   "display_name": "pompjax",
   "language": "python",
   "name": "python3"
  },
  "language_info": {
   "codemirror_mode": {
    "name": "ipython",
    "version": 3
   },
   "file_extension": ".py",
   "mimetype": "text/x-python",
   "name": "python",
   "nbconvert_exporter": "python",
   "pygments_lexer": "ipython3",
   "version": "3.8.13"
  },
  "orig_nbformat": 4
 },
 "nbformat": 4,
 "nbformat_minor": 2
}
