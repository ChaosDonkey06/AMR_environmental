{
 "cells": [
  {
   "cell_type": "code",
   "execution_count": 1,
   "metadata": {},
   "outputs": [
    {
     "name": "stdout",
     "output_type": "stream",
     "text": [
      "Hola"
     ]
    }
   ],
   "source": [
    "#using Pkg\n",
    "#Pkg.add(\"StructuralIdentifiability\")\n",
    "\n",
    "# import package\n",
    "using StructuralIdentifiability\n",
    "print(\"Hola\")"
   ]
  },
  {
   "cell_type": "code",
   "execution_count": 7,
   "metadata": {},
   "outputs": [
    {
     "name": "stderr",
     "output_type": "stream",
     "text": [
      "┌ Info: Summary of the model:\n",
      "└ @ StructuralIdentifiability /Users/chaosdonkey06/.julia/packages/StructuralIdentifiability/rYPpk/src/ODE.jl:390\n",
      "┌ Info: State variables: s, c\n",
      "└ @ StructuralIdentifiability /Users/chaosdonkey06/.julia/packages/StructuralIdentifiability/rYPpk/src/ODE.jl:391\n",
      "┌ Info: Parameters: gamma, delta, sigma, ro, tau, T, beta, Nw\n",
      "└ @ StructuralIdentifiability /Users/chaosdonkey06/.julia/packages/StructuralIdentifiability/rYPpk/src/ODE.jl:392\n",
      "┌ Info: Inputs: \n",
      "└ @ StructuralIdentifiability /Users/chaosdonkey06/.julia/packages/StructuralIdentifiability/rYPpk/src/ODE.jl:393\n",
      "┌ Info: Outputs: y\n",
      "└ @ StructuralIdentifiability /Users/chaosdonkey06/.julia/packages/StructuralIdentifiability/rYPpk/src/ODE.jl:394\n",
      "┌ Info: Assessing local identifiability\n",
      "└ @ StructuralIdentifiability /Users/chaosdonkey06/.julia/packages/StructuralIdentifiability/rYPpk/src/StructuralIdentifiability.jl:107\n"
     ]
    },
    {
     "name": "stderr",
     "output_type": "stream",
     "text": [
      "┌ Info: Local identifiability assessed in 0.122855127 seconds\n",
      "└ @ StructuralIdentifiability /Users/chaosdonkey06/.julia/packages/StructuralIdentifiability/rYPpk/src/StructuralIdentifiability.jl:111\n",
      "┌ Info: Assessing global identifiability\n",
      "└ @ StructuralIdentifiability /Users/chaosdonkey06/.julia/packages/StructuralIdentifiability/rYPpk/src/StructuralIdentifiability.jl:128\n",
      "┌ Info: Computing IO-equations\n",
      "└ @ StructuralIdentifiability /Users/chaosdonkey06/.julia/packages/StructuralIdentifiability/rYPpk/src/global_identifiability.jl:238\n",
      "┌ Info: Computed in 0.04529122 seconds\n",
      "│   :ioeq_time = ioeq_time\n",
      "│   ioeq_time = 0.04529122\n",
      "└ @ StructuralIdentifiability /Users/chaosdonkey06/.julia/packages/StructuralIdentifiability/rYPpk/src/global_identifiability.jl:242\n",
      "┌ Info: Computing Wronskians\n",
      "└ @ StructuralIdentifiability /Users/chaosdonkey06/.julia/packages/StructuralIdentifiability/rYPpk/src/global_identifiability.jl:245\n",
      "┌ Info: Computed in 0.027172458 seconds\n",
      "│   :wrnsk_time = wrnsk_time\n",
      "│   wrnsk_time = 0.027172458\n",
      "└ @ StructuralIdentifiability /Users/chaosdonkey06/.julia/packages/StructuralIdentifiability/rYPpk/src/global_identifiability.jl:247\n",
      "┌ Info: Dimensions of the Wronskians [7]\n",
      "└ @ StructuralIdentifiability /Users/chaosdonkey06/.julia/packages/StructuralIdentifiability/rYPpk/src/global_identifiability.jl:251\n",
      "┌ Info: Ranks of the Wronskians computed in 8.3695e-5 seconds\n",
      "│   :rank_time = rank_time\n",
      "│   rank_times = 8.3695e-5\n",
      "└ @ StructuralIdentifiability /Users/chaosdonkey06/.julia/packages/StructuralIdentifiability/rYPpk/src/global_identifiability.jl:256\n",
      "┌ Info: Assessing global identifiability using the coefficients of the io-equations\n",
      "└ @ StructuralIdentifiability /Users/chaosdonkey06/.julia/packages/StructuralIdentifiability/rYPpk/src/global_identifiability.jl:263\n"
     ]
    },
    {
     "name": "stderr",
     "output_type": "stream",
     "text": [
      "┌ Info: Computed in 0.735762863 seconds\n",
      "│   :check_time = check_time\n",
      "│   check_time = 0.735762863\n",
      "└ @ StructuralIdentifiability /Users/chaosdonkey06/.julia/packages/StructuralIdentifiability/rYPpk/src/global_identifiability.jl:271\n",
      "┌ Info: Global identifiability assessed in 0.816747896 seconds\n",
      "└ @ StructuralIdentifiability /Users/chaosdonkey06/.julia/packages/StructuralIdentifiability/rYPpk/src/StructuralIdentifiability.jl:131\n"
     ]
    },
    {
     "data": {
      "text/plain": [
       "Dict{Any, Symbol} with 3 entries:\n",
       "  ro    => :nonidentifiable\n",
       "  beta  => :nonidentifiable\n",
       "  gamma => :nonidentifiable"
      ]
     },
     "metadata": {},
     "output_type": "display_data"
    }
   ],
   "source": [
    "model = @ODEmodel(\n",
    "        s'(t) = (1-gamma) * sigma * Nw - (beta * c(t) / Nw) * s(t) - delta * s(t) + tau * c(t),\n",
    "        c'(t) = gamma * sigma * Nw     + (beta * c(t) / Nw) * s(t) - delta * c(t) - tau * c(t),\n",
    "        y(t)  = T*ro * (c(t) / Nw)\n",
    "    )\n",
    "\n",
    "assess_identifiability(model, [beta, gamma, ro])\n"
   ]
  },
  {
   "cell_type": "code",
   "execution_count": 5,
   "metadata": {},
   "outputs": [
    {
     "name": "stderr",
     "output_type": "stream",
     "text": [
      "┌ Info: Summary of the model:\n",
      "└ @ StructuralIdentifiability /Users/chaosdonkey06/.julia/packages/StructuralIdentifiability/rYPpk/src/ODE.jl:390\n",
      "┌ Info: State variables: w, s, c\n",
      "└ @ StructuralIdentifiability /Users/chaosdonkey06/.julia/packages/StructuralIdentifiability/rYPpk/src/ODE.jl:391\n",
      "┌ Info: Parameters: alpha, gamma, delta, sigma, ro, teta, tau, beta, Nw\n",
      "└ @ StructuralIdentifiability /Users/chaosdonkey06/.julia/packages/StructuralIdentifiability/rYPpk/src/ODE.jl:392\n",
      "┌ Info: Inputs: \n",
      "└ @ StructuralIdentifiability /Users/chaosdonkey06/.julia/packages/StructuralIdentifiability/rYPpk/src/ODE.jl:393\n",
      "┌ Info: Outputs: y\n",
      "└ @ StructuralIdentifiability /Users/chaosdonkey06/.julia/packages/StructuralIdentifiability/rYPpk/src/ODE.jl:394\n",
      "┌ Info: Assessing local identifiability\n",
      "└ @ StructuralIdentifiability /Users/chaosdonkey06/.julia/packages/StructuralIdentifiability/rYPpk/src/StructuralIdentifiability.jl:107\n"
     ]
    },
    {
     "name": "stderr",
     "output_type": "stream",
     "text": [
      "┌ Info: Local identifiability assessed in 0.018281308 seconds\n",
      "└ @ StructuralIdentifiability /Users/chaosdonkey06/.julia/packages/StructuralIdentifiability/rYPpk/src/StructuralIdentifiability.jl:111\n",
      "┌ Info: Assessing global identifiability\n",
      "└ @ StructuralIdentifiability /Users/chaosdonkey06/.julia/packages/StructuralIdentifiability/rYPpk/src/StructuralIdentifiability.jl:128\n",
      "┌ Info: Computing IO-equations\n",
      "└ @ StructuralIdentifiability /Users/chaosdonkey06/.julia/packages/StructuralIdentifiability/rYPpk/src/global_identifiability.jl:238\n",
      "┌ Info: Computed in 0.02649337 seconds\n",
      "│   :ioeq_time = ioeq_time\n",
      "│   ioeq_time = 0.02649337\n",
      "└ @ StructuralIdentifiability /Users/chaosdonkey06/.julia/packages/StructuralIdentifiability/rYPpk/src/global_identifiability.jl:242\n",
      "┌ Info: Computing Wronskians\n",
      "└ @ StructuralIdentifiability /Users/chaosdonkey06/.julia/packages/StructuralIdentifiability/rYPpk/src/global_identifiability.jl:245\n"
     ]
    },
    {
     "name": "stderr",
     "output_type": "stream",
     "text": [
      "┌ Info: Computed in 0.108767924 seconds\n",
      "│   :wrnsk_time = wrnsk_time\n",
      "│   wrnsk_time = 0.108767924\n",
      "└ @ StructuralIdentifiability /Users/chaosdonkey06/.julia/packages/StructuralIdentifiability/rYPpk/src/global_identifiability.jl:247\n",
      "┌ Info: Dimensions of the Wronskians [77]\n",
      "└ @ StructuralIdentifiability /Users/chaosdonkey06/.julia/packages/StructuralIdentifiability/rYPpk/src/global_identifiability.jl:251\n",
      "┌ Info: Ranks of the Wronskians computed in 0.000625126 seconds\n",
      "│   :rank_time = rank_time\n",
      "│   rank_times = 0.000625126\n",
      "└ @ StructuralIdentifiability /Users/chaosdonkey06/.julia/packages/StructuralIdentifiability/rYPpk/src/global_identifiability.jl:256\n",
      "┌ Info: Assessing global identifiability using the coefficients of the io-equations\n",
      "└ @ StructuralIdentifiability /Users/chaosdonkey06/.julia/packages/StructuralIdentifiability/rYPpk/src/global_identifiability.jl:263\n",
      "┌ Info: Computed in 0.051512485 seconds\n",
      "│   :check_time = check_time\n",
      "│   check_time = 0.051512485\n",
      "└ @ StructuralIdentifiability /Users/chaosdonkey06/.julia/packages/StructuralIdentifiability/rYPpk/src/global_identifiability.jl:271\n",
      "┌ Info: Global identifiability assessed in 0.189958152 seconds\n",
      "└ @ StructuralIdentifiability /Users/chaosdonkey06/.julia/packages/StructuralIdentifiability/rYPpk/src/StructuralIdentifiability.jl:131\n"
     ]
    },
    {
     "data": {
      "text/plain": [
       "Dict{Any, Symbol} with 4 entries:\n",
       "  ro    => :nonidentifiable\n",
       "  beta  => :nonidentifiable\n",
       "  teta  => :nonidentifiable\n",
       "  gamma => :globally"
      ]
     },
     "metadata": {},
     "output_type": "display_data"
    }
   ],
   "source": [
    "model = @ODEmodel(\n",
    "        s'(t) = (1-gamma) * sigma * Nw - (beta * c(t) / Nw + w(t)) * s(t) - delta * s(t) + tau * c(t),\n",
    "        c'(t) = gamma * sigma * Nw     + (beta * c(t) / Nw + w(t)) * s(t) - delta * c(t) - tau * c(t),\n",
    "        w'(t) = teta * (c(t) / Nw)  - alpha * w(t),\n",
    "        y(t)  = ro * (c(t) / Nw)\n",
    "    )\n",
    "\n",
    "assess_identifiability(model, [beta, teta, gamma, ro])\n"
   ]
  },
  {
   "cell_type": "code",
   "execution_count": 6,
   "metadata": {},
   "outputs": [
    {
     "name": "stderr",
     "output_type": "stream",
     "text": [
      "┌ Info: Summary of the model:\n",
      "└ @ StructuralIdentifiability /Users/chaosdonkey06/.julia/packages/StructuralIdentifiability/rYPpk/src/ODE.jl:390\n",
      "┌ Info: State variables: w, s, c\n",
      "└ @ StructuralIdentifiability /Users/chaosdonkey06/.julia/packages/StructuralIdentifiability/rYPpk/src/ODE.jl:391\n",
      "┌ Info: Parameters: alpha, gamma, delta, sigma, ro, Kw, teta, tau, beta, Nw\n",
      "└ @ StructuralIdentifiability /Users/chaosdonkey06/.julia/packages/StructuralIdentifiability/rYPpk/src/ODE.jl:392\n",
      "┌ Info: Inputs: \n",
      "└ @ StructuralIdentifiability /Users/chaosdonkey06/.julia/packages/StructuralIdentifiability/rYPpk/src/ODE.jl:393\n",
      "┌ Info: Outputs: y\n",
      "└ @ StructuralIdentifiability /Users/chaosdonkey06/.julia/packages/StructuralIdentifiability/rYPpk/src/ODE.jl:394\n",
      "┌ Info: Assessing local identifiability\n",
      "└ @ StructuralIdentifiability /Users/chaosdonkey06/.julia/packages/StructuralIdentifiability/rYPpk/src/StructuralIdentifiability.jl:107\n"
     ]
    },
    {
     "name": "stderr",
     "output_type": "stream",
     "text": [
      "┌ Info: Local identifiability assessed in 0.071012588 seconds\n",
      "└ @ StructuralIdentifiability /Users/chaosdonkey06/.julia/packages/StructuralIdentifiability/rYPpk/src/StructuralIdentifiability.jl:111\n",
      "┌ Info: Assessing global identifiability\n",
      "└ @ StructuralIdentifiability /Users/chaosdonkey06/.julia/packages/StructuralIdentifiability/rYPpk/src/StructuralIdentifiability.jl:128\n",
      "┌ Info: Computing IO-equations\n",
      "└ @ StructuralIdentifiability /Users/chaosdonkey06/.julia/packages/StructuralIdentifiability/rYPpk/src/global_identifiability.jl:238\n"
     ]
    },
    {
     "name": "stderr",
     "output_type": "stream",
     "text": [
      "┌ Info: Computed in 0.192519829 seconds\n",
      "│   :ioeq_time = ioeq_time\n",
      "│   ioeq_time = 0.192519829\n",
      "└ @ StructuralIdentifiability /Users/chaosdonkey06/.julia/packages/StructuralIdentifiability/rYPpk/src/global_identifiability.jl:242\n",
      "┌ Info: Computing Wronskians\n",
      "└ @ StructuralIdentifiability /Users/chaosdonkey06/.julia/packages/StructuralIdentifiability/rYPpk/src/global_identifiability.jl:245\n"
     ]
    },
    {
     "name": "stderr",
     "output_type": "stream",
     "text": [
      "┌ Info: Computed in 0.169134742 seconds\n",
      "│   :wrnsk_time = wrnsk_time\n",
      "│   wrnsk_time = 0.169134742\n",
      "└ @ StructuralIdentifiability /Users/chaosdonkey06/.julia/packages/StructuralIdentifiability/rYPpk/src/global_identifiability.jl:247\n",
      "┌ Info: Dimensions of the Wronskians [180]\n",
      "└ @ StructuralIdentifiability /Users/chaosdonkey06/.julia/packages/StructuralIdentifiability/rYPpk/src/global_identifiability.jl:251\n",
      "┌ Info: Ranks of the Wronskians computed in 0.002984443 seconds\n",
      "│   :rank_time = rank_time\n",
      "│   rank_times = 0.002984443\n",
      "└ @ StructuralIdentifiability /Users/chaosdonkey06/.julia/packages/StructuralIdentifiability/rYPpk/src/global_identifiability.jl:256\n",
      "┌ Info: Assessing global identifiability using the coefficients of the io-equations\n",
      "└ @ StructuralIdentifiability /Users/chaosdonkey06/.julia/packages/StructuralIdentifiability/rYPpk/src/global_identifiability.jl:263\n"
     ]
    },
    {
     "name": "stderr",
     "output_type": "stream",
     "text": [
      "┌ Info: Computed in 0.271931016 seconds\n",
      "│   :check_time = check_time\n",
      "│   check_time = 0.271931016\n",
      "└ @ StructuralIdentifiability /Users/chaosdonkey06/.julia/packages/StructuralIdentifiability/rYPpk/src/global_identifiability.jl:271\n",
      "┌ Info: Global identifiability assessed in 0.640125805 seconds\n",
      "└ @ StructuralIdentifiability /Users/chaosdonkey06/.julia/packages/StructuralIdentifiability/rYPpk/src/StructuralIdentifiability.jl:131\n"
     ]
    },
    {
     "data": {
      "text/plain": [
       "Dict{Any, Symbol} with 4 entries:\n",
       "  beta  => :nonidentifiable\n",
       "  teta  => :globally\n",
       "  gamma => :globally\n",
       "  ro    => :nonidentifiable"
      ]
     },
     "metadata": {},
     "output_type": "display_data"
    }
   ],
   "source": [
    "model = @ODEmodel(\n",
    "    s'(t) = (1-gamma) * sigma * Nw - (beta * c(t) / Nw + w(t)) * s(t) - delta * s(t) + tau * c(t),\n",
    "    c'(t) = gamma * sigma * Nw    +  (beta * c(t) / Nw + w(t)) * s(t) - delta * c(t) - tau * c(t),\n",
    "    w'(t) = teta * (c(t) / Nw )/((c(t) / Nw) + Kw) - alpha * w(t),\n",
    "    y(t)  = ro * (c(t) / Nw)\n",
    "    )\n",
    "\n",
    "assess_identifiability(model, [beta, teta, gamma, ro])\n"
   ]
  },
  {
   "cell_type": "code",
   "execution_count": null,
   "metadata": {},
   "outputs": [],
   "source": []
  }
 ],
 "metadata": {
  "kernelspec": {
   "display_name": "Julia 1.9.2",
   "language": "julia",
   "name": "julia-1.9"
  },
  "language_info": {
   "file_extension": ".jl",
   "mimetype": "application/julia",
   "name": "julia",
   "version": "1.9.2"
  },
  "orig_nbformat": 4
 },
 "nbformat": 4,
 "nbformat_minor": 2
}
